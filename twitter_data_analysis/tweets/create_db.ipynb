{
 "cells": [
  {
   "cell_type": "code",
   "execution_count": 1,
   "metadata": {},
   "outputs": [],
   "source": [
    "import os\n",
    "import re\n",
    "import pandas as pd"
   ]
  },
  {
   "cell_type": "code",
   "execution_count": 2,
   "metadata": {},
   "outputs": [],
   "source": [
    "files = os.listdir()"
   ]
  },
  {
   "cell_type": "code",
   "execution_count": 3,
   "metadata": {},
   "outputs": [
    {
     "data": {
      "text/plain": [
       "'.txt'"
      ]
     },
     "execution_count": 3,
     "metadata": {},
     "output_type": "execute_result"
    }
   ],
   "source": [
    "files[0][-4:]"
   ]
  },
  {
   "cell_type": "code",
   "execution_count": 4,
   "metadata": {},
   "outputs": [],
   "source": [
    "files =  [file for file in files if file[-4:] == '.txt'] "
   ]
  },
  {
   "cell_type": "code",
   "execution_count": 5,
   "metadata": {},
   "outputs": [
    {
     "data": {
      "text/plain": [
       "['#humnibhayenge.txt',\n",
       " '#congresshathaogareebihathjayegi.txt',\n",
       " '#congresshatesmiddleclass.txt',\n",
       " '#gobackmodi.txt',\n",
       " '#BJPDestroyingIndia.txt',\n",
       " '#rahulcitizencontroversy.txt',\n",
       " '#chowkidarchorhain.txt',\n",
       " '#humarorahulgandhi.txt',\n",
       " 'GoBackModi.txt',\n",
       " '#IndiaWantsModiAgain.txt',\n",
       " '#jeetegatomodihi.txt',\n",
       " '#maibhichowkidar.txt',\n",
       " '#congressmuktbharat.txt',\n",
       " '#ChowkidarChorHai.txt',\n",
       " 'congresshatao.txt']"
      ]
     },
     "execution_count": 5,
     "metadata": {},
     "output_type": "execute_result"
    }
   ],
   "source": [
    "files"
   ]
  },
  {
   "cell_type": "code",
   "execution_count": 6,
   "metadata": {},
   "outputs": [
    {
     "data": {
      "text/plain": [
       "['#humnibhayenge.txt',\n",
       " '#congresshathaogareebihathjayegi.txt',\n",
       " '#congresshatesmiddleclass.txt',\n",
       " '#rahulcitizencontroversy.txt',\n",
       " '#chowkidarchorhain.txt',\n",
       " '#humarorahulgandhi.txt',\n",
       " 'GoBackModi.txt',\n",
       " '#IndiaWantsModiAgain.txt',\n",
       " '#jeetegatomodihi.txt',\n",
       " '#maibhichowkidar.txt',\n",
       " '#congressmuktbharat.txt',\n",
       " '#ChowkidarChorHai.txt']"
      ]
     },
     "execution_count": 6,
     "metadata": {},
     "output_type": "execute_result"
    }
   ],
   "source": [
    "files.remove('#gobackmodi.txt')\n",
    "files.remove('congresshatao.txt')\n",
    "files.remove('#BJPDestroyingIndia.txt')\n",
    "files"
   ]
  },
  {
   "cell_type": "code",
   "execution_count": 7,
   "metadata": {},
   "outputs": [],
   "source": [
    "tweets = []"
   ]
  },
  {
   "cell_type": "code",
   "execution_count": 8,
   "metadata": {},
   "outputs": [],
   "source": [
    "parties = {'#humnibhayenge.txt' : ('congress','p'), '#congresshathaogareebihathjayegi.txt' : ('congress','n'),\n",
    "           '#congresshatesmiddleclass.txt' :('congress','n'),\n",
    "          '#rahulcitizencontroversy.txt':('congess','n'),'#chowkidarchorhain.txt':('bjp','n'),\n",
    "           '#humarorahulgandhi.txt':('congress','p'),'GoBackModi.txt':('bjp','n'),\n",
    "          '#IndiaWantsModiAgain.txt':('bjp','p'),'#jeetegatomodihi.txt':('bjp','p'),\n",
    "           '#maibhichowkidar.txt':('bjp','p'),\n",
    "           '#congressmuktbharat.txt':('congress','n'),\n",
    "           '#ChowkidarChorHai.txt':('bjp','n')\n",
    "          }"
   ]
  },
  {
   "cell_type": "code",
   "execution_count": 9,
   "metadata": {},
   "outputs": [],
   "source": [
    "def get_all_ind(string, subs, ):\n",
    "    ind = []\n",
    "    for i in re.finditer(subs,string):\n",
    "        ind.append(i.start())\n",
    "    return ind\n",
    "def read_a_file(file_name):\n",
    "    party = parties[file_name][0]\n",
    "    polarity = parties[file_name][1]\n",
    "    file = open(file_name, \"r\") \n",
    "    content = file.read()\n",
    "    tweet_ind = get_all_ind(content,r'TWEET_TEXT:')\n",
    "    for i in range(len(tweet_ind)-1):\n",
    "        tweets.append((file_name[:-4],content[tweet_ind[i]+12:tweet_ind[i+1]].replace(\"\\n\", \" \"),party,polarity)) \n",
    "    #tweets.append((file_name[:-4],content[tweet_ind[-1]+12:].replace(\"\\n\", \" \"))) \n",
    "    file.close()"
   ]
  },
  {
   "cell_type": "code",
   "execution_count": 10,
   "metadata": {},
   "outputs": [],
   "source": [
    "strng = 'TWEET_TEXT:swa'"
   ]
  },
  {
   "cell_type": "code",
   "execution_count": 11,
   "metadata": {},
   "outputs": [],
   "source": [
    "ind = get_all_ind(strng,strng)"
   ]
  },
  {
   "cell_type": "code",
   "execution_count": 12,
   "metadata": {},
   "outputs": [
    {
     "data": {
      "text/plain": [
       "[0]"
      ]
     },
     "execution_count": 12,
     "metadata": {},
     "output_type": "execute_result"
    }
   ],
   "source": [
    "ind"
   ]
  },
  {
   "cell_type": "code",
   "execution_count": 13,
   "metadata": {},
   "outputs": [
    {
     "data": {
      "text/plain": [
       "'swa'"
      ]
     },
     "execution_count": 13,
     "metadata": {},
     "output_type": "execute_result"
    }
   ],
   "source": [
    "strng[ind[0]+11:]"
   ]
  },
  {
   "cell_type": "code",
   "execution_count": 14,
   "metadata": {},
   "outputs": [
    {
     "name": "stdout",
     "output_type": "stream",
     "text": [
      "swa\n"
     ]
    }
   ],
   "source": [
    "for i in range(len(ind)-1):\n",
    "    print(strng[ind[i]+11:ind[i+1]])\n",
    "print(strng[ind[-1]+11:])"
   ]
  },
  {
   "cell_type": "code",
   "execution_count": 15,
   "metadata": {},
   "outputs": [],
   "source": [
    "for i in files:\n",
    "    read_a_file(i)"
   ]
  },
  {
   "cell_type": "code",
   "execution_count": 16,
   "metadata": {},
   "outputs": [],
   "source": [
    "df = pd.DataFrame(tweets, columns=['hashtag', 'tweet','party','polarity'])\n",
    "df.to_csv('political_tweets.csv')"
   ]
  },
  {
   "cell_type": "code",
   "execution_count": null,
   "metadata": {},
   "outputs": [],
   "source": []
  }
 ],
 "metadata": {
  "kernelspec": {
   "display_name": "Python 3",
   "language": "python",
   "name": "python3"
  },
  "language_info": {
   "codemirror_mode": {
    "name": "ipython",
    "version": 3
   },
   "file_extension": ".py",
   "mimetype": "text/x-python",
   "name": "python",
   "nbconvert_exporter": "python",
   "pygments_lexer": "ipython3",
   "version": "3.6.5"
  }
 },
 "nbformat": 4,
 "nbformat_minor": 2
}
