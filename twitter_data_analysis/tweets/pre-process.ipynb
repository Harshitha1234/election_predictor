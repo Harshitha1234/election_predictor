{
 "cells": [
  {
   "cell_type": "code",
   "execution_count": 12,
   "metadata": {},
   "outputs": [],
   "source": [
    "import pandas as pd\n",
    "import re"
   ]
  },
  {
   "cell_type": "code",
   "execution_count": 13,
   "metadata": {},
   "outputs": [],
   "source": [
    "def cleanText(string):\n",
    "    string = string.lower()\n",
    "    re_list = [\n",
    "        'link <http[\\S\\s]+>',\n",
    "        'http(\\S)+',# re4 in question\n",
    "        'www(\\S)+', #urls with www\n",
    "        '[^\\w\\s]', #puncts\n",
    "        '[\\d]+', #numbers \t\n",
    "        'rt '\n",
    "    ]\n",
    "\n",
    "    for reg in re_list:\n",
    "        string = re.sub(reg, \" \", string)\n",
    "    return string\n"
   ]
  },
  {
   "cell_type": "code",
   "execution_count": 14,
   "metadata": {},
   "outputs": [
    {
     "name": "stdout",
     "output_type": "stream",
     "text": [
      "<class 'pandas.core.frame.DataFrame'>\n",
      "RangeIndex: 11494 entries, 0 to 11493\n",
      "Data columns (total 5 columns):\n",
      "Unnamed: 0    11494 non-null int64\n",
      "hashtag       11494 non-null object\n",
      "tweet         11494 non-null object\n",
      "party         11494 non-null object\n",
      "polarity      11494 non-null object\n",
      "dtypes: int64(1), object(4)\n",
      "memory usage: 449.1+ KB\n"
     ]
    }
   ],
   "source": [
    "df = pd.read_csv('political_tweets.csv')\n",
    "df.info()"
   ]
  },
  {
   "cell_type": "code",
   "execution_count": 15,
   "metadata": {},
   "outputs": [],
   "source": [
    "df['tweet'] = list(map(cleanText, df['tweet']))"
   ]
  },
  {
   "cell_type": "code",
   "execution_count": 16,
   "metadata": {},
   "outputs": [
    {
     "data": {
      "text/html": [
       "<div>\n",
       "<style scoped>\n",
       "    .dataframe tbody tr th:only-of-type {\n",
       "        vertical-align: middle;\n",
       "    }\n",
       "\n",
       "    .dataframe tbody tr th {\n",
       "        vertical-align: top;\n",
       "    }\n",
       "\n",
       "    .dataframe thead th {\n",
       "        text-align: right;\n",
       "    }\n",
       "</style>\n",
       "<table border=\"1\" class=\"dataframe\">\n",
       "  <thead>\n",
       "    <tr style=\"text-align: right;\">\n",
       "      <th></th>\n",
       "      <th>Unnamed: 0</th>\n",
       "      <th>hashtag</th>\n",
       "      <th>tweet</th>\n",
       "      <th>party</th>\n",
       "      <th>polarity</th>\n",
       "    </tr>\n",
       "  </thead>\n",
       "  <tbody>\n",
       "    <tr>\n",
       "      <th>0</th>\n",
       "      <td>0</td>\n",
       "      <td>#humnibhayenge</td>\n",
       "      <td>vikramaditya_jk  rally at inderwal today   h...</td>\n",
       "      <td>congress</td>\n",
       "      <td>p</td>\n",
       "    </tr>\n",
       "    <tr>\n",
       "      <th>1</th>\n",
       "      <td>1</td>\n",
       "      <td>#humnibhayenge</td>\n",
       "      <td>vsugrappa  what pm  narendramodi has stolen ...</td>\n",
       "      <td>congress</td>\n",
       "      <td>p</td>\n",
       "    </tr>\n",
       "    <tr>\n",
       "      <th>2</th>\n",
       "      <td>2</td>\n",
       "      <td>#humnibhayenge</td>\n",
       "      <td>inckarnataka  through the nyuntam aay yojana...</td>\n",
       "      <td>congress</td>\n",
       "      <td>p</td>\n",
       "    </tr>\n",
       "    <tr>\n",
       "      <th>3</th>\n",
       "      <td>3</td>\n",
       "      <td>#humnibhayenge</td>\n",
       "      <td>jainjain   in   bjp promised     crore jobs ...</td>\n",
       "      <td>congress</td>\n",
       "      <td>p</td>\n",
       "    </tr>\n",
       "    <tr>\n",
       "      <th>4</th>\n",
       "      <td>4</td>\n",
       "      <td>#humnibhayenge</td>\n",
       "      <td>lakshadweepcon   momentum is high    march o...</td>\n",
       "      <td>congress</td>\n",
       "      <td>p</td>\n",
       "    </tr>\n",
       "  </tbody>\n",
       "</table>\n",
       "</div>"
      ],
      "text/plain": [
       "   Unnamed: 0         hashtag  \\\n",
       "0           0  #humnibhayenge   \n",
       "1           1  #humnibhayenge   \n",
       "2           2  #humnibhayenge   \n",
       "3           3  #humnibhayenge   \n",
       "4           4  #humnibhayenge   \n",
       "\n",
       "                                               tweet     party polarity  \n",
       "0    vikramaditya_jk  rally at inderwal today   h...  congress        p  \n",
       "1    vsugrappa  what pm  narendramodi has stolen ...  congress        p  \n",
       "2    inckarnataka  through the nyuntam aay yojana...  congress        p  \n",
       "3    jainjain   in   bjp promised     crore jobs ...  congress        p  \n",
       "4    lakshadweepcon   momentum is high    march o...  congress        p  "
      ]
     },
     "execution_count": 16,
     "metadata": {},
     "output_type": "execute_result"
    }
   ],
   "source": [
    "df.head()"
   ]
  },
  {
   "cell_type": "code",
   "execution_count": 18,
   "metadata": {},
   "outputs": [],
   "source": [
    "df.to_csv('cleaned_political_tweets.csv',index = False)"
   ]
  }
 ],
 "metadata": {
  "kernelspec": {
   "display_name": "Python 3",
   "language": "python",
   "name": "python3"
  },
  "language_info": {
   "codemirror_mode": {
    "name": "ipython",
    "version": 3
   },
   "file_extension": ".py",
   "mimetype": "text/x-python",
   "name": "python",
   "nbconvert_exporter": "python",
   "pygments_lexer": "ipython3",
   "version": "3.6.5"
  }
 },
 "nbformat": 4,
 "nbformat_minor": 2
}
